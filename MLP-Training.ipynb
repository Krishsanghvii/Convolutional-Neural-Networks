{
 "cells": [
  {
   "cell_type": "code",
   "execution_count": 1,
   "id": "modern-currency",
   "metadata": {},
   "outputs": [],
   "source": [
    "import os\n",
    "import pickle\n",
    "import sys\n",
    "import time"
   ]
  },
  {
   "cell_type": "code",
   "execution_count": 2,
   "id": "destroyed-germany",
   "metadata": {},
   "outputs": [],
   "source": [
    "import lightgbm as lgb\n",
    "import matplotlib.pyplot as plt\n",
    "import numpy as np\n",
    "import pandas as pd\n",
    "import scipy.stats"
   ]
  },
  {
   "cell_type": "code",
   "execution_count": 3,
   "id": "british-seeker",
   "metadata": {},
   "outputs": [],
   "source": [
    "from snmachine import snclassifier\n",
    "from snmachine.utils.plasticc_pipeline import get_directories, load_dataset"
   ]
  },
  {
   "cell_type": "code",
   "execution_count": 4,
   "id": "single-prescription",
   "metadata": {},
   "outputs": [],
   "source": [
    "import warnings\n",
    "warnings.simplefilter('always', DeprecationWarning)"
   ]
  },
  {
   "cell_type": "code",
   "execution_count": 5,
   "id": "drawn-image",
   "metadata": {},
   "outputs": [],
   "source": [
    "%config Completer.use_jedi = False  "
   ]
  },
  {
   "cell_type": "code",
   "execution_count": 6,
   "id": "deadly-windows",
   "metadata": {},
   "outputs": [],
   "source": [
    "analysis_name = 'example_dataset_aug' "
   ]
  },
  {
   "cell_type": "code",
   "execution_count": 7,
   "id": "urban-words",
   "metadata": {},
   "outputs": [],
   "source": [
    "folder_path = 'C:\\\\Users\\\\Alcatraz\\\\Desktop\\\\Supernova\\\\snmachine-main\\\\snmachine\\\\example_data'\n",
    "\n",
    "directories = get_directories(folder_path, analysis_name) \n",
    "path_saved_features = directories['features_directory']"
   ]
  },
  {
   "cell_type": "code",
   "execution_count": 8,
   "id": "annual-maine",
   "metadata": {},
   "outputs": [],
   "source": [
    "X = pd.read_pickle(os.path.join(path_saved_features, 'features.pckl'))\n",
    "y = pd.read_pickle(os.path.join(path_saved_features, 'data_labels.pckl'))  "
   ]
  },
  {
   "cell_type": "code",
   "execution_count": 9,
   "id": "alike-relay",
   "metadata": {},
   "outputs": [],
   "source": [
    "data_file_name = 'example_dataset_aug.pckl'"
   ]
  },
  {
   "cell_type": "code",
   "execution_count": 10,
   "id": "inappropriate-portfolio",
   "metadata": {},
   "outputs": [
    {
     "name": "stdout",
     "output_type": "stream",
     "text": [
      "Opening from binary pickle\n",
      "Dataset loaded from pickle file as: <snmachine.sndata.PlasticcData object at 0x000001C29B221FA0>\n"
     ]
    }
   ],
   "source": [
    "data_path = os.path.join(folder_path, data_file_name)\n",
    "dataset = load_dataset(data_path)"
   ]
  },
  {
   "cell_type": "code",
   "execution_count": 11,
   "id": "active-tactics",
   "metadata": {},
   "outputs": [],
   "source": [
    "metadata = dataset.metadata"
   ]
  },
  {
   "cell_type": "code",
   "execution_count": 12,
   "id": "innocent-yacht",
   "metadata": {},
   "outputs": [
    {
     "name": "stdout",
     "output_type": "stream",
     "text": [
      "Created classifier of type: MLPClassifier(activation='tanh', hidden_layer_sizes=(5, 2),\n",
      "              random_state=RandomState(MT19937) at 0x1C29E956940).\n",
      "\n"
     ]
    }
   ],
   "source": [
    "classifier_instance = snclassifier.NNClassifier(classifier_name='NN_classifier', random_seed=42)"
   ]
  },
  {
   "cell_type": "code",
   "execution_count": 17,
   "id": "hired-government",
   "metadata": {},
   "outputs": [
    {
     "name": "stdout",
     "output_type": "stream",
     "text": [
      "Cross-validation for an augmented dataset.\n",
      "The optimisation takes 25.251s.\n"
     ]
    }
   ],
   "source": [
    "param_grid = {\n",
    "    'hidden_layer_sizes': [(100,), (50, 50), (50, 100, 50)],\n",
    "    'activation': ['relu', 'tanh', 'logistic'],\n",
    "    'solver': ['adam', 'sgd'],\n",
    "    'learning_rate': ['constant', 'invscaling', 'adaptive']\n",
    "}\n",
    "X.columns = X.columns.astype(str)\n",
    "classifier_instance.optimise(X, y, param_grid=param_grid, scoring='logloss', \n",
    "                             number_cv_folds=5, metadata=metadata)"
   ]
  },
  {
   "cell_type": "code",
   "execution_count": 18,
   "id": "recovered-parallel",
   "metadata": {},
   "outputs": [
    {
     "data": {
      "text/html": [
       "<style>#sk-container-id-1 {color: black;}#sk-container-id-1 pre{padding: 0;}#sk-container-id-1 div.sk-toggleable {background-color: white;}#sk-container-id-1 label.sk-toggleable__label {cursor: pointer;display: block;width: 100%;margin-bottom: 0;padding: 0.3em;box-sizing: border-box;text-align: center;}#sk-container-id-1 label.sk-toggleable__label-arrow:before {content: \"▸\";float: left;margin-right: 0.25em;color: #696969;}#sk-container-id-1 label.sk-toggleable__label-arrow:hover:before {color: black;}#sk-container-id-1 div.sk-estimator:hover label.sk-toggleable__label-arrow:before {color: black;}#sk-container-id-1 div.sk-toggleable__content {max-height: 0;max-width: 0;overflow: hidden;text-align: left;background-color: #f0f8ff;}#sk-container-id-1 div.sk-toggleable__content pre {margin: 0.2em;color: black;border-radius: 0.25em;background-color: #f0f8ff;}#sk-container-id-1 input.sk-toggleable__control:checked~div.sk-toggleable__content {max-height: 200px;max-width: 100%;overflow: auto;}#sk-container-id-1 input.sk-toggleable__control:checked~label.sk-toggleable__label-arrow:before {content: \"▾\";}#sk-container-id-1 div.sk-estimator input.sk-toggleable__control:checked~label.sk-toggleable__label {background-color: #d4ebff;}#sk-container-id-1 div.sk-label input.sk-toggleable__control:checked~label.sk-toggleable__label {background-color: #d4ebff;}#sk-container-id-1 input.sk-hidden--visually {border: 0;clip: rect(1px 1px 1px 1px);clip: rect(1px, 1px, 1px, 1px);height: 1px;margin: -1px;overflow: hidden;padding: 0;position: absolute;width: 1px;}#sk-container-id-1 div.sk-estimator {font-family: monospace;background-color: #f0f8ff;border: 1px dotted black;border-radius: 0.25em;box-sizing: border-box;margin-bottom: 0.5em;}#sk-container-id-1 div.sk-estimator:hover {background-color: #d4ebff;}#sk-container-id-1 div.sk-parallel-item::after {content: \"\";width: 100%;border-bottom: 1px solid gray;flex-grow: 1;}#sk-container-id-1 div.sk-label:hover label.sk-toggleable__label {background-color: #d4ebff;}#sk-container-id-1 div.sk-serial::before {content: \"\";position: absolute;border-left: 1px solid gray;box-sizing: border-box;top: 0;bottom: 0;left: 50%;z-index: 0;}#sk-container-id-1 div.sk-serial {display: flex;flex-direction: column;align-items: center;background-color: white;padding-right: 0.2em;padding-left: 0.2em;position: relative;}#sk-container-id-1 div.sk-item {position: relative;z-index: 1;}#sk-container-id-1 div.sk-parallel {display: flex;align-items: stretch;justify-content: center;background-color: white;position: relative;}#sk-container-id-1 div.sk-item::before, #sk-container-id-1 div.sk-parallel-item::before {content: \"\";position: absolute;border-left: 1px solid gray;box-sizing: border-box;top: 0;bottom: 0;left: 50%;z-index: -1;}#sk-container-id-1 div.sk-parallel-item {display: flex;flex-direction: column;z-index: 1;position: relative;background-color: white;}#sk-container-id-1 div.sk-parallel-item:first-child::after {align-self: flex-end;width: 50%;}#sk-container-id-1 div.sk-parallel-item:last-child::after {align-self: flex-start;width: 50%;}#sk-container-id-1 div.sk-parallel-item:only-child::after {width: 0;}#sk-container-id-1 div.sk-dashed-wrapped {border: 1px dashed gray;margin: 0 0.4em 0.5em 0.4em;box-sizing: border-box;padding-bottom: 0.4em;background-color: white;}#sk-container-id-1 div.sk-label label {font-family: monospace;font-weight: bold;display: inline-block;line-height: 1.2em;}#sk-container-id-1 div.sk-label-container {text-align: center;}#sk-container-id-1 div.sk-container {/* jupyter's `normalize.less` sets `[hidden] { display: none; }` but bootstrap.min.css set `[hidden] { display: none !important; }` so we also need the `!important` here to be able to override the default hidden behavior on the sphinx rendered scikit-learn.org. See: https://github.com/scikit-learn/scikit-learn/issues/21755 */display: inline-block !important;position: relative;}#sk-container-id-1 div.sk-text-repr-fallback {display: none;}</style><div id=\"sk-container-id-1\" class=\"sk-top-container\"><div class=\"sk-text-repr-fallback\"><pre>MLPClassifier(activation=&#x27;logistic&#x27;, hidden_layer_sizes=(50, 50),\n",
       "              learning_rate=&#x27;invscaling&#x27;,\n",
       "              random_state=RandomState(MT19937) at 0x1C2A05A4440, solver=&#x27;sgd&#x27;)</pre><b>In a Jupyter environment, please rerun this cell to show the HTML representation or trust the notebook. <br />On GitHub, the HTML representation is unable to render, please try loading this page with nbviewer.org.</b></div><div class=\"sk-container\" hidden><div class=\"sk-item\"><div class=\"sk-estimator sk-toggleable\"><input class=\"sk-toggleable__control sk-hidden--visually\" id=\"sk-estimator-id-1\" type=\"checkbox\" checked><label for=\"sk-estimator-id-1\" class=\"sk-toggleable__label sk-toggleable__label-arrow\">MLPClassifier</label><div class=\"sk-toggleable__content\"><pre>MLPClassifier(activation=&#x27;logistic&#x27;, hidden_layer_sizes=(50, 50),\n",
       "              learning_rate=&#x27;invscaling&#x27;,\n",
       "              random_state=RandomState(MT19937) at 0x1C2A05A4440, solver=&#x27;sgd&#x27;)</pre></div></div></div></div></div>"
      ],
      "text/plain": [
       "MLPClassifier(activation='logistic', hidden_layer_sizes=(50, 50),\n",
       "              learning_rate='invscaling',\n",
       "              random_state=RandomState(MT19937) at 0x1C2A05A4440, solver='sgd')"
      ]
     },
     "execution_count": 18,
     "metadata": {},
     "output_type": "execute_result"
    }
   ],
   "source": [
    "classifier_instance.classifier"
   ]
  },
  {
   "cell_type": "code",
   "execution_count": 19,
   "id": "certified-sherman",
   "metadata": {},
   "outputs": [
    {
     "data": {
      "text/plain": [
       "{'activation': 'logistic',\n",
       " 'hidden_layer_sizes': (50, 50),\n",
       " 'learning_rate': 'invscaling',\n",
       " 'solver': 'sgd'}"
      ]
     },
     "execution_count": 19,
     "metadata": {},
     "output_type": "execute_result"
    }
   ],
   "source": [
    "classifier_instance.grid_search.best_params_"
   ]
  },
  {
   "cell_type": "code",
   "execution_count": 20,
   "id": "express-warren",
   "metadata": {},
   "outputs": [
    {
     "data": {
      "text/plain": [
       "'NN_classifier'"
      ]
     },
     "execution_count": 20,
     "metadata": {},
     "output_type": "execute_result"
    }
   ],
   "source": [
    "classifier_instance.classifier_name"
   ]
  },
  {
   "cell_type": "code",
   "execution_count": 21,
   "id": "breeding-handbook",
   "metadata": {},
   "outputs": [],
   "source": [
    "path_saved_classifier = directories['classifications_directory']"
   ]
  },
  {
   "cell_type": "code",
   "execution_count": 22,
   "id": "false-frontier",
   "metadata": {},
   "outputs": [
    {
     "name": "stdout",
     "output_type": "stream",
     "text": [
      "Classifier saved in C:\\Users\\Alcatraz\\Desktop\\Supernova\\snmachine-main\\snmachine\\example_data\\example_dataset_aug\\classifications\\NN_classifier.pck .\n"
     ]
    }
   ],
   "source": [
    "classifier_instance.save_classifier(path_saved_classifier)"
   ]
  },
  {
   "cell_type": "code",
   "execution_count": null,
   "id": "98a9a55f",
   "metadata": {},
   "outputs": [],
   "source": []
  },
  {
   "cell_type": "code",
   "execution_count": null,
   "id": "07e6e077",
   "metadata": {},
   "outputs": [],
   "source": []
  }
 ],
 "metadata": {
  "kernelspec": {
   "display_name": "Python 3 (ipykernel)",
   "language": "python",
   "name": "python3"
  },
  "language_info": {
   "codemirror_mode": {
    "name": "ipython",
    "version": 3
   },
   "file_extension": ".py",
   "mimetype": "text/x-python",
   "name": "python",
   "nbconvert_exporter": "python",
   "pygments_lexer": "ipython3",
   "version": "3.9.16"
  }
 },
 "nbformat": 4,
 "nbformat_minor": 5
}
