{
 "cells": [
  {
   "cell_type": "code",
   "execution_count": 1,
   "id": "duplicate-cinema",
   "metadata": {},
   "outputs": [],
   "source": [
    "import collections\n",
    "import os\n",
    "import pickle\n",
    "import sys\n",
    "import time"
   ]
  },
  {
   "cell_type": "code",
   "execution_count": 2,
   "id": "global-junction",
   "metadata": {},
   "outputs": [],
   "source": [
    "import matplotlib.pyplot as plt\n",
    "import numpy as np\n",
    "import pandas as pd\n",
    "import seaborn as sns"
   ]
  },
  {
   "cell_type": "code",
   "execution_count": 3,
   "id": "continental-cabin",
   "metadata": {},
   "outputs": [],
   "source": [
    "import lightgbm as lgb\n",
    "import matplotlib.pyplot as plt\n",
    "import numpy as np\n",
    "import pandas as pd\n",
    "import scipy.stats"
   ]
  },
  {
   "cell_type": "code",
   "execution_count": 4,
   "id": "affecting-lunch",
   "metadata": {},
   "outputs": [],
   "source": [
    "from snmachine import gps, snfeatures\n",
    "from snmachine.utils.plasticc_pipeline import create_folder_structure, get_directories, load_dataset"
   ]
  },
  {
   "cell_type": "code",
   "execution_count": 5,
   "id": "graduate-prototype",
   "metadata": {},
   "outputs": [],
   "source": [
    "%config Completer.use_jedi = False  "
   ]
  },
  {
   "cell_type": "code",
   "execution_count": 6,
   "id": "appreciated-overhead",
   "metadata": {},
   "outputs": [],
   "source": [
    "folder_path = 'C:\\\\Users\\\\Alcatraz\\\\Desktop\\\\Supernova\\\\snmachine-main\\\\snmachine\\\\example_data'"
   ]
  },
  {
   "cell_type": "code",
   "execution_count": 7,
   "id": "satellite-profile",
   "metadata": {},
   "outputs": [],
   "source": [
    "data_file_name = 'example_dataset_aug.pckl'"
   ]
  },
  {
   "cell_type": "code",
   "execution_count": 8,
   "id": "colonial-memory",
   "metadata": {},
   "outputs": [
    {
     "name": "stdout",
     "output_type": "stream",
     "text": [
      "Opening from binary pickle\n",
      "Dataset loaded from pickle file as: <snmachine.sndata.PlasticcData object at 0x000001D89112F7F0>\n"
     ]
    }
   ],
   "source": [
    "data_path = os.path.join(folder_path, data_file_name)\n",
    "dataset = load_dataset(data_path)"
   ]
  },
  {
   "cell_type": "code",
   "execution_count": 9,
   "id": "rubber-expert",
   "metadata": {},
   "outputs": [],
   "source": [
    "analysis_name = data_file_name[:-5]"
   ]
  },
  {
   "cell_type": "code",
   "execution_count": 12,
   "id": "early-yacht",
   "metadata": {},
   "outputs": [],
   "source": [
    "import os\n",
    "\n",
    "def create_folder_structure(folder_path, analysis_name):\n",
    "\n",
    "    for key, value in directories.items():\n",
    "        os.makedirs(value, exist_ok=True)\n",
    "\n",
    "\n",
    "folder_path = r'C:\\Users\\Alcatraz\\Desktop\\Supernova\\snmachine-main\\snmachine\\example_data'\n",
    "\n",
    "create_folder_structure(folder_path, analysis_name)\n"
   ]
  },
  {
   "cell_type": "code",
   "execution_count": 11,
   "id": "homeless-wilderness",
   "metadata": {},
   "outputs": [],
   "source": [
    "directories = get_directories(folder_path, analysis_name) \n",
    "path_saved_gps = directories['intermediate_files_directory']"
   ]
  },
  {
   "cell_type": "code",
   "execution_count": 13,
   "id": "fifteen-filter",
   "metadata": {},
   "outputs": [],
   "source": [
    "t_min = 0\n",
    "t_max = 278\n",
    "\n",
    "gp_dim = 2\n",
    "number_gp = 276\n",
    "number_processes = 1"
   ]
  },
  {
   "cell_type": "code",
   "execution_count": 14,
   "id": "existing-accounting",
   "metadata": {},
   "outputs": [
    {
     "name": "stdout",
     "output_type": "stream",
     "text": [
      "Performing Gaussian process regression.\n",
      "Models fitted with the Gaussian Processes values.\n",
      "Time taken for Gaussian process regression: 2.46s.\n"
     ]
    }
   ],
   "source": [
    "gps.compute_gps(dataset, number_gp=number_gp, t_min=t_min, t_max=t_max, \n",
    "                gp_dim=gp_dim, output_root=path_saved_gps, \n",
    "                number_processes=number_processes)"
   ]
  },
  {
   "cell_type": "code",
   "execution_count": 15,
   "id": "acquired-search",
   "metadata": {},
   "outputs": [],
   "source": [
    "path_saved_wavelets = directories['intermediate_files_directory']"
   ]
  },
  {
   "cell_type": "code",
   "execution_count": 16,
   "id": "union-analysis",
   "metadata": {},
   "outputs": [],
   "source": [
    "number_comps = 40\n",
    "path_saved_reduced_wavelets = directories['features_directory']"
   ]
  },
  {
   "cell_type": "code",
   "execution_count": 17,
   "id": "cubic-glenn",
   "metadata": {},
   "outputs": [
    {
     "name": "stdout",
     "output_type": "stream",
     "text": [
      "The wavelet used is sym2.\n",
      "Each passband is decomposed in 2 levels.\n",
      "Performing wavelet decomposition.\n",
      "Time taken for wavelet decomposition: 0.40s.\n",
      "Performing eigendecomposition.\n",
      "Time taken for eigendecomposition: 0.09s.\n",
      "Dimensionality reduced feature space with 40 components.\n"
     ]
    }
   ],
   "source": [
    "wf = snfeatures.WaveletFeatures(output_root=path_saved_wavelets)\n",
    "\n",
    "\n",
    "reduced_wavelet_features = wf.compute_reduced_features(\n",
    "    dataset, number_comps=number_comps, \n",
    "    **{'wavelet_name': 'sym2', 'number_decomp_levels': 2,\n",
    "       'path_save_eigendecomp': path_saved_reduced_wavelets})"
   ]
  },
  {
   "cell_type": "code",
   "execution_count": 18,
   "id": "latin-heart",
   "metadata": {},
   "outputs": [
    {
     "data": {
      "text/plain": [
       "'C:\\\\Users\\\\Alcatraz\\\\Desktop\\\\Supernova\\\\snmachine-main\\\\snmachine\\\\example_data\\\\example_dataset_aug\\\\wavelet_features'"
      ]
     },
     "execution_count": 18,
     "metadata": {},
     "output_type": "execute_result"
    }
   ],
   "source": [
    "path_saved_reduced_wavelets"
   ]
  },
  {
   "cell_type": "code",
   "execution_count": 19,
   "id": "southwest-parade",
   "metadata": {},
   "outputs": [],
   "source": [
    "wf.save_reduced_features(reduced_wavelet_features, path_saved_reduced_wavelets)"
   ]
  },
  {
   "cell_type": "code",
   "execution_count": 20,
   "id": "opponent-freeware",
   "metadata": {},
   "outputs": [],
   "source": [
    "features = reduced_wavelet_features.copy() \n",
    "\n",
    "metadata = dataset.metadata\n",
    "features['hostgal_photoz'] = metadata.hostgal_photoz.values.astype(float)\n",
    "features['hostgal_photoz_err'] = metadata.hostgal_photoz_err.values.astype(float)"
   ]
  },
  {
   "cell_type": "code",
   "execution_count": 21,
   "id": "pending-malawi",
   "metadata": {},
   "outputs": [],
   "source": [
    "path_saved_features = directories['features_directory']"
   ]
  },
  {
   "cell_type": "code",
   "execution_count": 22,
   "id": "flexible-nursing",
   "metadata": {},
   "outputs": [],
   "source": [
    "features.to_pickle(os.path.join(path_saved_features, 'features.pckl'))\n",
    "\n",
    "data_labels = dataset.labels.astype(int)  \n",
    "data_labels.to_pickle(os.path.join(path_saved_features, 'data_labels.pckl'))"
   ]
  },
  {
   "cell_type": "code",
   "execution_count": 23,
   "id": "inner-lighter",
   "metadata": {},
   "outputs": [],
   "source": [
    "saved_features = pd.read_pickle(os.path.join(path_saved_features, 'features.pckl')) \n",
    "saved_data_labels = pd.read_pickle(os.path.join(path_saved_features, 'data_labels.pckl'))"
   ]
  },
  {
   "cell_type": "code",
   "execution_count": 24,
   "id": "engaging-tanzania",
   "metadata": {},
   "outputs": [
    {
     "name": "stdout",
     "output_type": "stream",
     "text": [
      "True\n",
      "True\n"
     ]
    }
   ],
   "source": [
    "print(np.allclose(saved_features, features))\n",
    "print(np.allclose(saved_data_labels, data_labels))"
   ]
  },
  {
   "cell_type": "code",
   "execution_count": null,
   "id": "6e75fd1e",
   "metadata": {},
   "outputs": [],
   "source": []
  },
  {
   "cell_type": "code",
   "execution_count": null,
   "id": "075d095b",
   "metadata": {},
   "outputs": [],
   "source": []
  }
 ],
 "metadata": {
  "kernelspec": {
   "display_name": "Python 3 (ipykernel)",
   "language": "python",
   "name": "python3"
  },
  "language_info": {
   "codemirror_mode": {
    "name": "ipython",
    "version": 3
   },
   "file_extension": ".py",
   "mimetype": "text/x-python",
   "name": "python",
   "nbconvert_exporter": "python",
   "pygments_lexer": "ipython3",
   "version": "3.9.16"
  }
 },
 "nbformat": 4,
 "nbformat_minor": 5
}
